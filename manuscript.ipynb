{
 "cells": [
  {
   "attachments": {},
   "cell_type": "markdown",
   "metadata": {},
   "source": [
    "# Introduction"
   ]
  },
  {
   "attachments": {},
   "cell_type": "markdown",
   "metadata": {},
   "source": [
    "Schistosomiasis is a tropical disease caused by human infective parasites of the genus Schistosoma. The larval stage, miracidia, develop in the snail intermediate host into cercariae that are infective to humans. Once a human is infected, the parasites will travel to the mesenteric vasculature connecting the liver and intestine. Here, the worms mature and lay eggs. Some eggs travel to the intestine and are excreted into an aquatic environment before hatching to miracidia. However, other eggs travel to the liver, and these eggs do not get passed on and will not continue the cycle of infection. Liver eggs are typically used in rodent hosts for experimental research use. \n",
    "\n",
    "\n",
    "There are distinct functional differences in the eggs from the distinct tissues [1]. However, there is no understanding of the differences in miracidia from each tissue’s eggs. We utilized bioinformatics techniques and performed RNA-seq analysis on miracidia from infected mouse livers and intestines. We sought to understand transcriptomic differences in these miracidia and potentially find specialized functions dependent on location of maturation."
   ]
  },
  {
   "attachments": {},
   "cell_type": "markdown",
   "metadata": {},
   "source": [
    "# Methods"
   ]
  },
  {
   "attachments": {},
   "cell_type": "markdown",
   "metadata": {},
   "source": [
    "### RNA Extraction, Library Preparation, and Sequencing"
   ]
  },
  {
   "attachments": {},
   "cell_type": "markdown",
   "metadata": {},
   "source": [
    "(Going to be written by Dr. Wheeler)"
   ]
  },
  {
   "attachments": {},
   "cell_type": "markdown",
   "metadata": {},
   "source": [
    "### Read QC and Alignment"
   ]
  },
  {
   "attachments": {},
   "cell_type": "markdown",
   "metadata": {},
   "source": [
    "To perform QC (quality control) on our sequenced reads, we first performed FASTQC (v. 0.12.1) analysis to compile and score the reads overall. To view these quality scores, multiqc (v. 1.17) was used to view a html file. This allowed us to be given quality scores on the reads for categories: Per base sequence quality, Per tile sequence quality, Per sequence quality score, Per base sequence content, Per sequence GC content, Per base N content, Sequence length distribution, Sequence duplication levels, Overrepresented sequences, and Adapter content. A score was associated for each of the 16 paired intestine and liver miracidia samples. After first evaluation of the scores, we found that there were areas where trimming was necessary to improve the quality of the reads. We limited the reads to be a minimum of 20 base pairs in length or more. We also trimmed the adapter sequence that was found in both read 1 (AGATCGGAAGAGCACACGTCTGAACTCCAGTCA) and read 2 (AGATCGGAAGAGCGTCGTGTAGGGAAAGAGTGT) of all 16 samples. After this trim, we performed our FASTQC analysis again and found the quality scores to have improved from the first run-through. We used these trimmed reads for our next step; alignment.\n",
    "\n",
    "To perform alignment of our reads to the reference genome, we utilized STAR (v. 2.7.10a) to perform a two-pass alignment. We set certain parameters for our base alignment:\n",
    "- !STAR \\\n",
    "--runThreadN 16 \\\n",
    "--runMode genomeGenerate \\\n",
    "--genomeDir ../Sm_Mira_IvT/genome/star \\\n",
    "--genomeFastaFiles ../Sm_Mira_IvT/genome/genome.fa \\\n",
    "--sjdbGTFfile ../Sm_Mira_IvT/genome/annotations.gtf \\\n",
    "--sjdbOverhang 150 \\\n",
    "--genomeSAindexNbases 13\n",
    "\n",
    "After this aligned, we took those reads to perform our first pass test, with parameters as:\n",
    "- !STAR \\\n",
    "--runThreadN 16 \\\n",
    "--runMode alignReads \\\n",
    "--genomeDir ../Sm_Mira_IvT/genome/star \\\n",
    "--readFilesManifest manifest_mira.tsv \\\n",
    "--readFilesCommand zcat \\\n",
    "--outSAMtype BAM SortedByCoordinate \\\n",
    "--outSAMunmapped Within \\\n",
    "--outFileNamePrefix alignment_mira/star/first_pass/\n",
    "\n",
    "We took the output of this first pass and performed our second pass test with parameters as: \n",
    "- !STAR \\\n",
    "--runThreadN 16 \\\n",
    "--runMode alignReads \\\n",
    "--genomeDir ../Sm_Mira_IvT/genome/star \\\n",
    "--readFilesManifest manifest_mira.tsv \\\n",
    "--readFilesCommand zcat \\\n",
    "--outSAMtype BAM SortedByCoordinate \\\n",
    "--outSAMunmapped Within \\\n",
    "--outSAMattributes NH HI AS nM RG \\\n",
    "--outFileNamePrefix alignment_mira/star/second_pass/ \\\n",
    "--sjdbFileChrStartEnd alignment_mira/star/SJ.out.tab\n",
    "\n",
    "The output from our alignment passes gave us a .bam file that we used for alignment QC analysis. To do this, Samtools (v. 1.6), Picard (v. 3.2.0), and Qualimap (v. 2.3) were used. Samtools took the output .bam files from STAR and performed analysis to output a star_stats.txt file that we could use to view summaries associated with the entirety of our reads. We used Picard and Qualimap for our next step of analysis with parameters set as:\n",
    "\n",
    "- !picard AddOrReplaceReadGroups I=alignment_mira/star/second_pass/Aligned.sortedByCoord.out.bam O=qualimap/output.bam RGLB=temp RGPL=Illumina RGPU=1 RGSM=20 VALIDATION_STRINGENCY=LENIENT\n",
    "\n",
    "- !qualimap bamqc -nt 32 -outdir qualimap/star/bam -bam alignment_mira/star/second_pass/Aligned.sortedByCoord.out.bam --feature-file genome/annotations.gtf\n",
    "- !qualimap rnaseq -outdir qualimap/star/rnaseq -bam alignment_mira/star/second_pass/Aligned.sortedByCoord.out.bam -gtf genome/annotations.gtf\n",
    "\n",
    "After receiving the output files and viewing our analysis, we were able to step further and begin generating counts from our aligned reads. Using Picard tools once again, parameters were set as: \n",
    "- !picard MarkDuplicates I=alignment_mira/star/second_pass/Aligned.sortedByCoord.out.bam M=counting_mira/logs/star_duplicates O=counting_mira/dedup/star.bam VALIDATION_STRINGENCY=SILENT\n",
    "\n",
    "This allowed us to locate duplicated reads and ensure that overrepresentation wasn't going to be influenced by these multiple mapped alignments. We further used FeatureCounts (v. 2.0.6) to get our counts from our .bam files. We set parameters as: \n",
    "\n",
    "- !featureCounts -T 32 \\\n",
    "    counting_mira/dedup/star.bam \\\n",
    "    -T 32 \\\n",
    "    -p \\\n",
    "    --byReadGroup \\\n",
    "    -s 1 \\\n",
    "    --ignoreDup \\\n",
    "    -M \\\n",
    "    --fraction \\\n",
    "    -a ../Sm_Mira_IvT/genome/annotations.gtf \\\n",
    "    -o counting_mira/star_counts.tsv \\\n",
    "    --verbose\n",
    "\n",
    "We ran a multiqc report on the .tsv files output and were able to view now the entirety of our analysis and the quality of each step. This provided useful insight to our aligned reads and how well we had performed the steps. This set our foundation for identification of differentially expressed genes (DEGs) and the gene ontology (GO) behavior of these genes."
   ]
  },
  {
   "attachments": {},
   "cell_type": "markdown",
   "metadata": {},
   "source": [
    "### Identification of differentially expressed genes and GO analysis"
   ]
  },
  {
   "attachments": {},
   "cell_type": "markdown",
   "metadata": {},
   "source": [
    "With our reads analyzed and passed through our set parameters, now we could perform analysis to find our DEGs. We utilized R (v. 4.2.1) to perform our differential expression analysis. The following packages were used: Tidyverse, DESeq2, and broom. First, we converted our counts processed through STAR into a dataframe. We altered our dataframe to remove excess lines of writing and to remove genes with small values for total counts from the dataframe. We filtered the dataframe and turned it into a matrix of genes that contained our total counts of reads that aligned. Using this matrix, we performed a PCA analysis on the distribution of our STAR count matrix. \n",
    "\n",
    "For the next analysis of our differentially expressed genes, we performed a volcano plot analysis in R as well. Taking the same count matrix from STAR reads, we altered some of the variables associated with tissue type and replicate number. This made our metadata easier to work with for our analysis. We used the DESeq2 package to analyze our reads from the matrix and from our metadata with tissue being one of our variables for design. This was stored and used to create our volcano plot with our x-axis being log2FoldChange and our y-axis being -log10(p-adjusted). \n",
    "\n",
    "After we found that our reads expressed DEGs, we performed further analysis into these genes to understand any biological or functional importances associated with them in the S. mansoni species. We once again used R for this analysis, with packages: Tidyverse, and httpgd. We imported our raw counts, our normalized counts (after performing DESeq2), and our DEGs results before performing our analysis. We took the normalized counts and pivoted our data to be a longer table with each gene being a separate observation. We took our DEGs table and filtered to have a p-adjusted value of less than or equal to 0.05, as well as a log2FoldChange greater than or equal to 1 or less than or equal to -1. This gave us a table that contained our DEGs with specific values for our p-adjusted values and log2FoldChange, signifiying genes that are significant enough for our analysis. \n",
    "\n",
    "Out of the 87 genes that were significant DEGs, we chose four with two being highly expressed in the liver (log2FoldChange >= 1) and the other two being highly expressed in the intestines (log2FoldChange <= 1). We plotted these using ggplot2 in boxplot formation, allowing us to visualize the differences in expression between all four genes compared to both their liver and intestine expression values. \n",
    "\n",
    "To discover if any of the DEGs were biologically significant in the species, we utilized gprofiler2 to describe the gene ontology (GO) of these genes. We specifically filtered our total DEGs table to have a p-adjusted value less than or equal to 0.05, and the log2FoldChange greater than 1. Using the function gost, we input our table of gene id names and cross-referenced it to the genes in the entire database of the S. mansoni species. We identified genes related to nucleoside metabolic processes and glycosyl compound metabolic processes were present. Further analysis into other DEGs may provide other biologically significant functions that could give insight into S. mansoni behaviors and movements.\n",
    "\n",
    "The full R scripts for this section are available on the GitHub repository: https://github.com/swill04/Schistosoma-RNA-seq"
   ]
  },
  {
   "attachments": {},
   "cell_type": "markdown",
   "metadata": {},
   "source": [
    "# Results"
   ]
  },
  {
   "attachments": {},
   "cell_type": "markdown",
   "metadata": {},
   "source": [
    "### RNA sequencing, alignment, and sample clustering"
   ]
  },
  {
   "attachments": {},
   "cell_type": "markdown",
   "metadata": {},
   "source": [
    "### Identification of differentially expressed genes"
   ]
  },
  {
   "attachments": {},
   "cell_type": "markdown",
   "metadata": {},
   "source": [
    "### Identification of pathways and/or GO annotations that are differentially expressed"
   ]
  },
  {
   "attachments": {},
   "cell_type": "markdown",
   "metadata": {},
   "source": [
    "# Discussion"
   ]
  },
  {
   "attachments": {},
   "cell_type": "markdown",
   "metadata": {},
   "source": [
    "# References"
   ]
  },
  {
   "attachments": {},
   "cell_type": "markdown",
   "metadata": {},
   "source": [
    "1.Kristýna Peterková, Lukáš Konečný, Tomáš Macháček, Jedličková L, Winkelmann F, Sombetzki M, et al. Winners vs. losers: Schistosoma mansoni intestinal and liver eggs exhibit striking differences in gene expression and immunogenicity. PLoS Pathogens. 2024 May 30;20(5):e1012268–8.\n",
    "\n",
    "2.Hudak D, Johnson D, Chalker A, Nicklas J, Franz E, Dockendorf T, et al. Open OnDemand: A web-based client portal for HPC centers. Journal of Open Source Software. 2018 May 14;3(25):622.\n",
    "‌\n",
    "\n",
    "3.Howe KL, Bolt BJ, Shafie M, Kersey P, Berriman M. WormBase ParaSite − a comprehensive resource for helminth genomics. Molecular and Biochemical Parasitology. 2017 Jul;215:2–10."
   ]
  }
 ],
 "metadata": {
  "kernelspec": {
   "display_name": "sm_mira_ivt",
   "language": "python",
   "name": "python3"
  },
  "language_info": {
   "codemirror_mode": {
    "name": "ipython",
    "version": 3
   },
   "file_extension": ".py",
   "mimetype": "text/x-python",
   "name": "python",
   "nbconvert_exporter": "python",
   "pygments_lexer": "ipython3",
   "version": "3.12.3"
  },
  "orig_nbformat": 4
 },
 "nbformat": 4,
 "nbformat_minor": 2
}
